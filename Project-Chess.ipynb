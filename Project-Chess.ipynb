{
 "cells": [
  {
   "cell_type": "markdown",
   "metadata": {},
   "source": [
    "### Machine Learning I Project:\n",
    "\n",
    "\n",
    "Set up a supervised classification ML experiment predicting classes on the basis of numeric features (in case you use text as features, use the ‘recipes’ in the ‘text analysis pipeline’). \n",
    "\n"
   ]
  },
  {
   "cell_type": "code",
   "execution_count": 1,
   "metadata": {},
   "outputs": [],
   "source": [
    "import pandas as pd\n",
    "import numpy as np\n",
    "import matplotlib.pyplot as plt"
   ]
  },
  {
   "cell_type": "code",
   "execution_count": 2,
   "metadata": {},
   "outputs": [
    {
     "data": {
      "text/html": [
       "<div>\n",
       "<style scoped>\n",
       "    .dataframe tbody tr th:only-of-type {\n",
       "        vertical-align: middle;\n",
       "    }\n",
       "\n",
       "    .dataframe tbody tr th {\n",
       "        vertical-align: top;\n",
       "    }\n",
       "\n",
       "    .dataframe thead th {\n",
       "        text-align: right;\n",
       "    }\n",
       "</style>\n",
       "<table border=\"1\" class=\"dataframe\">\n",
       "  <thead>\n",
       "    <tr style=\"text-align: right;\">\n",
       "      <th></th>\n",
       "      <th>id</th>\n",
       "      <th>rated</th>\n",
       "      <th>created_at</th>\n",
       "      <th>last_move_at</th>\n",
       "      <th>turns</th>\n",
       "      <th>victory_status</th>\n",
       "      <th>winner</th>\n",
       "      <th>increment_code</th>\n",
       "      <th>white_id</th>\n",
       "      <th>white_rating</th>\n",
       "      <th>black_id</th>\n",
       "      <th>black_rating</th>\n",
       "      <th>moves</th>\n",
       "      <th>opening_eco</th>\n",
       "      <th>opening_name</th>\n",
       "      <th>opening_ply</th>\n",
       "    </tr>\n",
       "  </thead>\n",
       "  <tbody>\n",
       "    <tr>\n",
       "      <th>10341</th>\n",
       "      <td>UXUkBXj1</td>\n",
       "      <td>True</td>\n",
       "      <td>1.402363e+12</td>\n",
       "      <td>1.402364e+12</td>\n",
       "      <td>118</td>\n",
       "      <td>resign</td>\n",
       "      <td>black</td>\n",
       "      <td>10+0</td>\n",
       "      <td>theshelton</td>\n",
       "      <td>1669</td>\n",
       "      <td>ciklyk</td>\n",
       "      <td>1850</td>\n",
       "      <td>e4 c5 Nc3 Nc6 Nf3 e6 Bb5 Nge7 O-O a6 Bc4 b5 Be...</td>\n",
       "      <td>B25</td>\n",
       "      <td>Sicilian Defense: Closed Variation |  Traditional</td>\n",
       "      <td>4</td>\n",
       "    </tr>\n",
       "    <tr>\n",
       "      <th>13863</th>\n",
       "      <td>3HKtv6te</td>\n",
       "      <td>True</td>\n",
       "      <td>1.503081e+12</td>\n",
       "      <td>1.503081e+12</td>\n",
       "      <td>46</td>\n",
       "      <td>resign</td>\n",
       "      <td>white</td>\n",
       "      <td>10+0</td>\n",
       "      <td>lupanama</td>\n",
       "      <td>2413</td>\n",
       "      <td>shiwen</td>\n",
       "      <td>2219</td>\n",
       "      <td>d4 Nf6 c4 e6 Nf3 d5 Nc3 Bb4 e3 O-O Be2 dxc4 O-...</td>\n",
       "      <td>E51</td>\n",
       "      <td>Nimzo-Indian Defense: Normal Variation |  Rago...</td>\n",
       "      <td>10</td>\n",
       "    </tr>\n",
       "    <tr>\n",
       "      <th>15439</th>\n",
       "      <td>tpAPwIMR</td>\n",
       "      <td>True</td>\n",
       "      <td>1.501789e+12</td>\n",
       "      <td>1.501789e+12</td>\n",
       "      <td>58</td>\n",
       "      <td>mate</td>\n",
       "      <td>black</td>\n",
       "      <td>10+0</td>\n",
       "      <td>dazkins</td>\n",
       "      <td>1469</td>\n",
       "      <td>pedro84</td>\n",
       "      <td>1609</td>\n",
       "      <td>e4 e5 Nf3 Nc6 Bb5 Nge7 Nc3 a6 Ba4 b5 Bb3 Nd4 N...</td>\n",
       "      <td>C60</td>\n",
       "      <td>Ruy Lopez: Cozio Defense</td>\n",
       "      <td>6</td>\n",
       "    </tr>\n",
       "  </tbody>\n",
       "</table>\n",
       "</div>"
      ],
      "text/plain": [
       "             id  rated    created_at  last_move_at  turns victory_status  \\\n",
       "10341  UXUkBXj1   True  1.402363e+12  1.402364e+12    118         resign   \n",
       "13863  3HKtv6te   True  1.503081e+12  1.503081e+12     46         resign   \n",
       "15439  tpAPwIMR   True  1.501789e+12  1.501789e+12     58           mate   \n",
       "\n",
       "      winner increment_code    white_id  white_rating black_id  black_rating  \\\n",
       "10341  black           10+0  theshelton          1669   ciklyk          1850   \n",
       "13863  white           10+0    lupanama          2413   shiwen          2219   \n",
       "15439  black           10+0     dazkins          1469  pedro84          1609   \n",
       "\n",
       "                                                   moves opening_eco  \\\n",
       "10341  e4 c5 Nc3 Nc6 Nf3 e6 Bb5 Nge7 O-O a6 Bc4 b5 Be...         B25   \n",
       "13863  d4 Nf6 c4 e6 Nf3 d5 Nc3 Bb4 e3 O-O Be2 dxc4 O-...         E51   \n",
       "15439  e4 e5 Nf3 Nc6 Bb5 Nge7 Nc3 a6 Ba4 b5 Bb3 Nd4 N...         C60   \n",
       "\n",
       "                                            opening_name  opening_ply  \n",
       "10341  Sicilian Defense: Closed Variation |  Traditional            4  \n",
       "13863  Nimzo-Indian Defense: Normal Variation |  Rago...           10  \n",
       "15439                           Ruy Lopez: Cozio Defense            6  "
      ]
     },
     "execution_count": 2,
     "metadata": {},
     "output_type": "execute_result"
    }
   ],
   "source": [
    "chess = pd.read_csv('games.csv')\n",
    "chess.sample(3)"
   ]
  },
  {
   "cell_type": "markdown",
   "metadata": {},
   "source": [
    "## Data preprocessing (feature selection, missing values, …)"
   ]
  },
  {
   "cell_type": "code",
   "execution_count": 3,
   "metadata": {},
   "outputs": [
    {
     "data": {
      "text/plain": [
       "id                0\n",
       "rated             0\n",
       "created_at        0\n",
       "last_move_at      0\n",
       "turns             0\n",
       "victory_status    0\n",
       "winner            0\n",
       "increment_code    0\n",
       "white_id          0\n",
       "white_rating      0\n",
       "black_id          0\n",
       "black_rating      0\n",
       "moves             0\n",
       "opening_eco       0\n",
       "opening_name      0\n",
       "opening_ply       0\n",
       "dtype: int64"
      ]
     },
     "execution_count": 3,
     "metadata": {},
     "output_type": "execute_result"
    }
   ],
   "source": [
    "#check for missing values\n",
    "chess.isnull().sum()\n",
    "#No missing values!"
   ]
  },
  {
   "cell_type": "code",
   "execution_count": 4,
   "metadata": {},
   "outputs": [
    {
     "name": "stdout",
     "output_type": "stream",
     "text": [
      "<class 'pandas.core.frame.DataFrame'>\n",
      "RangeIndex: 20058 entries, 0 to 20057\n",
      "Data columns (total 7 columns):\n",
      " #   Column        Non-Null Count  Dtype \n",
      "---  ------        --------------  ----- \n",
      " 0   rated         20058 non-null  bool  \n",
      " 1   turns         20058 non-null  int64 \n",
      " 2   winner        20058 non-null  object\n",
      " 3   white_rating  20058 non-null  int64 \n",
      " 4   black_rating  20058 non-null  int64 \n",
      " 5   opening_eco   20058 non-null  object\n",
      " 6   opening_ply   20058 non-null  int64 \n",
      "dtypes: bool(1), int64(4), object(2)\n",
      "memory usage: 959.9+ KB\n"
     ]
    }
   ],
   "source": [
    "# select relevant categories\n",
    "# Winner, victory_status, white_rating, black_rating, moves, opening_eco, opening_ply, (opening_name)\n",
    "chess =  pd.read_csv(\"games.csv\", usecols=[\"winner\", \"white_rating\", \"black_rating\", \"opening_eco\", \"opening_ply\",\"rated\",'turns'])\n",
    "chess.info()"
   ]
  },
  {
   "cell_type": "code",
   "execution_count": 5,
   "metadata": {},
   "outputs": [
    {
     "data": {
      "text/html": [
       "<div>\n",
       "<style scoped>\n",
       "    .dataframe tbody tr th:only-of-type {\n",
       "        vertical-align: middle;\n",
       "    }\n",
       "\n",
       "    .dataframe tbody tr th {\n",
       "        vertical-align: top;\n",
       "    }\n",
       "\n",
       "    .dataframe thead th {\n",
       "        text-align: right;\n",
       "    }\n",
       "</style>\n",
       "<table border=\"1\" class=\"dataframe\">\n",
       "  <thead>\n",
       "    <tr style=\"text-align: right;\">\n",
       "      <th></th>\n",
       "      <th>rated</th>\n",
       "      <th>turns</th>\n",
       "      <th>winner</th>\n",
       "      <th>white_rating</th>\n",
       "      <th>black_rating</th>\n",
       "      <th>opening_eco</th>\n",
       "      <th>opening_ply</th>\n",
       "    </tr>\n",
       "  </thead>\n",
       "  <tbody>\n",
       "    <tr>\n",
       "      <th>0</th>\n",
       "      <td>False</td>\n",
       "      <td>13</td>\n",
       "      <td>white</td>\n",
       "      <td>1500</td>\n",
       "      <td>1191</td>\n",
       "      <td>D10</td>\n",
       "      <td>5</td>\n",
       "    </tr>\n",
       "    <tr>\n",
       "      <th>1</th>\n",
       "      <td>True</td>\n",
       "      <td>16</td>\n",
       "      <td>black</td>\n",
       "      <td>1322</td>\n",
       "      <td>1261</td>\n",
       "      <td>B00</td>\n",
       "      <td>4</td>\n",
       "    </tr>\n",
       "    <tr>\n",
       "      <th>2</th>\n",
       "      <td>True</td>\n",
       "      <td>61</td>\n",
       "      <td>white</td>\n",
       "      <td>1496</td>\n",
       "      <td>1500</td>\n",
       "      <td>C20</td>\n",
       "      <td>3</td>\n",
       "    </tr>\n",
       "    <tr>\n",
       "      <th>3</th>\n",
       "      <td>True</td>\n",
       "      <td>61</td>\n",
       "      <td>white</td>\n",
       "      <td>1439</td>\n",
       "      <td>1454</td>\n",
       "      <td>D02</td>\n",
       "      <td>3</td>\n",
       "    </tr>\n",
       "    <tr>\n",
       "      <th>4</th>\n",
       "      <td>True</td>\n",
       "      <td>95</td>\n",
       "      <td>white</td>\n",
       "      <td>1523</td>\n",
       "      <td>1469</td>\n",
       "      <td>C41</td>\n",
       "      <td>5</td>\n",
       "    </tr>\n",
       "  </tbody>\n",
       "</table>\n",
       "</div>"
      ],
      "text/plain": [
       "   rated  turns winner  white_rating  black_rating opening_eco  opening_ply\n",
       "0  False     13  white          1500          1191         D10            5\n",
       "1   True     16  black          1322          1261         B00            4\n",
       "2   True     61  white          1496          1500         C20            3\n",
       "3   True     61  white          1439          1454         D02            3\n",
       "4   True     95  white          1523          1469         C41            5"
      ]
     },
     "execution_count": 5,
     "metadata": {},
     "output_type": "execute_result"
    }
   ],
   "source": [
    "chess.head()"
   ]
  },
  {
   "cell_type": "markdown",
   "metadata": {},
   "source": [
    "X values/features: \n",
    "- rated: categorical\n",
    "- turns: numerical\n",
    "- white_rating & black_rating: integer\n",
    "- opening_eco (Standardised Code for any given opening): categorical\n",
    "- opening_ply: integer\n",
    "\n",
    "Target Variable:\n",
    "- winner :  categorical  "
   ]
  },
  {
   "cell_type": "code",
   "execution_count": 6,
   "metadata": {},
   "outputs": [
    {
     "data": {
      "text/plain": [
       "white    10001\n",
       "black     9107\n",
       "draw       950\n",
       "Name: winner, dtype: int64"
      ]
     },
     "execution_count": 6,
     "metadata": {},
     "output_type": "execute_result"
    }
   ],
   "source": [
    "chess.winner.value_counts()"
   ]
  },
  {
   "cell_type": "code",
   "execution_count": 7,
   "metadata": {},
   "outputs": [
    {
     "name": "stdout",
     "output_type": "stream",
     "text": [
      "<class 'pandas.core.frame.DataFrame'>\n",
      "Int64Index: 19108 entries, 0 to 20057\n",
      "Data columns (total 7 columns):\n",
      " #   Column        Non-Null Count  Dtype \n",
      "---  ------        --------------  ----- \n",
      " 0   rated         19108 non-null  bool  \n",
      " 1   turns         19108 non-null  int64 \n",
      " 2   winner        19108 non-null  object\n",
      " 3   white_rating  19108 non-null  int64 \n",
      " 4   black_rating  19108 non-null  int64 \n",
      " 5   opening_eco   19108 non-null  object\n",
      " 6   opening_ply   19108 non-null  int64 \n",
      "dtypes: bool(1), int64(4), object(2)\n",
      "memory usage: 1.0+ MB\n",
      "None\n",
      "white    10001\n",
      "black     9107\n",
      "Name: winner, dtype: int64\n"
     ]
    }
   ],
   "source": [
    "# imbalance for draws: leave out\n",
    "chess = chess[chess[\"winner\"] != 'draw']\n",
    "print(chess.info())\n",
    "print(chess.winner.value_counts())"
   ]
  },
  {
   "cell_type": "code",
   "execution_count": 8,
   "metadata": {},
   "outputs": [],
   "source": [
    "# encode categorical features (opening_eco & rated)\n",
    "from sklearn.preprocessing import LabelEncoder\n",
    "le = LabelEncoder()"
   ]
  },
  {
   "cell_type": "code",
   "execution_count": 9,
   "metadata": {},
   "outputs": [
    {
     "data": {
      "text/html": [
       "<div>\n",
       "<style scoped>\n",
       "    .dataframe tbody tr th:only-of-type {\n",
       "        vertical-align: middle;\n",
       "    }\n",
       "\n",
       "    .dataframe tbody tr th {\n",
       "        vertical-align: top;\n",
       "    }\n",
       "\n",
       "    .dataframe thead th {\n",
       "        text-align: right;\n",
       "    }\n",
       "</style>\n",
       "<table border=\"1\" class=\"dataframe\">\n",
       "  <thead>\n",
       "    <tr style=\"text-align: right;\">\n",
       "      <th></th>\n",
       "      <th>rated</th>\n",
       "      <th>turns</th>\n",
       "      <th>winner</th>\n",
       "      <th>white_rating</th>\n",
       "      <th>black_rating</th>\n",
       "      <th>opening_eco</th>\n",
       "      <th>opening_ply</th>\n",
       "    </tr>\n",
       "  </thead>\n",
       "  <tbody>\n",
       "    <tr>\n",
       "      <th>0</th>\n",
       "      <td>0</td>\n",
       "      <td>13</td>\n",
       "      <td>white</td>\n",
       "      <td>1500</td>\n",
       "      <td>1191</td>\n",
       "      <td>244</td>\n",
       "      <td>5</td>\n",
       "    </tr>\n",
       "    <tr>\n",
       "      <th>1</th>\n",
       "      <td>1</td>\n",
       "      <td>16</td>\n",
       "      <td>black</td>\n",
       "      <td>1322</td>\n",
       "      <td>1261</td>\n",
       "      <td>70</td>\n",
       "      <td>4</td>\n",
       "    </tr>\n",
       "    <tr>\n",
       "      <th>2</th>\n",
       "      <td>1</td>\n",
       "      <td>61</td>\n",
       "      <td>white</td>\n",
       "      <td>1496</td>\n",
       "      <td>1500</td>\n",
       "      <td>170</td>\n",
       "      <td>3</td>\n",
       "    </tr>\n",
       "    <tr>\n",
       "      <th>3</th>\n",
       "      <td>1</td>\n",
       "      <td>61</td>\n",
       "      <td>white</td>\n",
       "      <td>1439</td>\n",
       "      <td>1454</td>\n",
       "      <td>237</td>\n",
       "      <td>3</td>\n",
       "    </tr>\n",
       "    <tr>\n",
       "      <th>4</th>\n",
       "      <td>1</td>\n",
       "      <td>95</td>\n",
       "      <td>white</td>\n",
       "      <td>1523</td>\n",
       "      <td>1469</td>\n",
       "      <td>190</td>\n",
       "      <td>5</td>\n",
       "    </tr>\n",
       "  </tbody>\n",
       "</table>\n",
       "</div>"
      ],
      "text/plain": [
       "   rated  turns winner  white_rating  black_rating  opening_eco  opening_ply\n",
       "0      0     13  white          1500          1191          244            5\n",
       "1      1     16  black          1322          1261           70            4\n",
       "2      1     61  white          1496          1500          170            3\n",
       "3      1     61  white          1439          1454          237            3\n",
       "4      1     95  white          1523          1469          190            5"
      ]
     },
     "execution_count": 9,
     "metadata": {},
     "output_type": "execute_result"
    }
   ],
   "source": [
    "chess[\"rated\"] = le.fit_transform(chess[\"rated\"])\n",
    "chess[\"opening_eco\"] = le.fit_transform(chess[\"opening_eco\"])\n",
    "chess.head()"
   ]
  },
  {
   "cell_type": "code",
   "execution_count": 10,
   "metadata": {},
   "outputs": [],
   "source": [
    "X = chess.drop(['winner'], axis=1)\n",
    "y = chess['winner']"
   ]
  },
  {
   "cell_type": "markdown",
   "metadata": {},
   "source": [
    "### Splitting Data"
   ]
  },
  {
   "cell_type": "code",
   "execution_count": 11,
   "metadata": {},
   "outputs": [],
   "source": [
    "from sklearn.model_selection import train_test_split"
   ]
  },
  {
   "cell_type": "code",
   "execution_count": 12,
   "metadata": {},
   "outputs": [],
   "source": [
    "X_train, X_hold, y_train, y_hold = train_test_split(X,y, test_size = 0.50, stratify=y, random_state= 11)"
   ]
  },
  {
   "cell_type": "code",
   "execution_count": 13,
   "metadata": {},
   "outputs": [],
   "source": [
    "X_dev, X_test, y_dev, y_test = train_test_split(X_hold,y_hold, test_size = 0.50, stratify = y_hold, random_state = 11)"
   ]
  },
  {
   "cell_type": "markdown",
   "metadata": {},
   "source": [
    "## Fitting the data Using Pipeline\n",
    "Setting up a pipeline with preprocessing and various ML algorithms"
   ]
  },
  {
   "cell_type": "code",
   "execution_count": 14,
   "metadata": {},
   "outputs": [],
   "source": [
    "# pipeline\n",
    "from sklearn.pipeline import Pipeline, FeatureUnion\n",
    "from sklearn.base import BaseEstimator, TransformerMixin\n",
    "from sklearn.preprocessing import StandardScaler\n",
    "from sklearn.model_selection import train_test_split, cross_val_predict # DEZE GEBRUIKEN VOOR EVALUATIE TRAIN\n",
    "\n",
    "# classifiers\n",
    "from sklearn.svm import LinearSVC, SVC\n",
    "from sklearn.tree import DecisionTreeClassifier\n",
    "from sklearn.ensemble import RandomForestClassifier\n",
    "from sklearn.linear_model import LogisticRegression\n",
    "\n",
    "# evaluation\n",
    "from sklearn.metrics import classification_report, accuracy_score, confusion_matrix # PREDICT EN DEZE METRICS GEBRUIKEN VOOR DEV EN TEST"
   ]
  },
  {
   "cell_type": "code",
   "execution_count": 15,
   "metadata": {},
   "outputs": [],
   "source": [
    "# custom transformer\n",
    "class ItemSelector(BaseEstimator, TransformerMixin):\n",
    "    def __init__(self, key):\n",
    "        self.key = key\n",
    "        \n",
    "    def fit(self, x, y=None):\n",
    "        return self\n",
    "    \n",
    "    def transform(self, data_dict):\n",
    "        return data_dict[self.key]"
   ]
  },
  {
   "cell_type": "code",
   "execution_count": 16,
   "metadata": {},
   "outputs": [
    {
     "name": "stdout",
     "output_type": "stream",
     "text": [
      "RESULTS FOR LinearSVC() :\n"
     ]
    },
    {
     "name": "stderr",
     "output_type": "stream",
     "text": [
      "C:\\Users\\robin\\anaconda3\\lib\\site-packages\\sklearn\\svm\\_base.py:976: ConvergenceWarning: Liblinear failed to converge, increase the number of iterations.\n",
      "  warnings.warn(\"Liblinear failed to converge, increase \"\n"
     ]
    },
    {
     "name": "stdout",
     "output_type": "stream",
     "text": [
      "              precision    recall  f1-score   support\n",
      "\n",
      "       black       0.55      0.47      0.51      4554\n",
      "       white       0.57      0.66      0.61      5000\n",
      "\n",
      "    accuracy                           0.57      9554\n",
      "   macro avg       0.56      0.56      0.56      9554\n",
      "weighted avg       0.56      0.57      0.56      9554\n",
      "\n",
      "RESULTS FOR SVC() :\n",
      "              precision    recall  f1-score   support\n",
      "\n",
      "       black       0.52      0.12      0.20      4554\n",
      "       white       0.53      0.90      0.67      5000\n",
      "\n",
      "    accuracy                           0.53      9554\n",
      "   macro avg       0.52      0.51      0.43      9554\n",
      "weighted avg       0.52      0.53      0.44      9554\n",
      "\n",
      "RESULTS FOR DecisionTreeClassifier() :\n",
      "              precision    recall  f1-score   support\n",
      "\n",
      "       black       0.59      0.60      0.59      4554\n",
      "       white       0.63      0.63      0.63      5000\n",
      "\n",
      "    accuracy                           0.61      9554\n",
      "   macro avg       0.61      0.61      0.61      9554\n",
      "weighted avg       0.61      0.61      0.61      9554\n",
      "\n",
      "RESULTS FOR RandomForestClassifier() :\n",
      "              precision    recall  f1-score   support\n",
      "\n",
      "       black       0.66      0.64      0.65      4554\n",
      "       white       0.68      0.69      0.69      5000\n",
      "\n",
      "    accuracy                           0.67      9554\n",
      "   macro avg       0.67      0.67      0.67      9554\n",
      "weighted avg       0.67      0.67      0.67      9554\n",
      "\n",
      "RESULTS FOR LogisticRegression() :\n",
      "              precision    recall  f1-score   support\n",
      "\n",
      "       black       0.66      0.59      0.62      4554\n",
      "       white       0.66      0.72      0.69      5000\n",
      "\n",
      "    accuracy                           0.66      9554\n",
      "   macro avg       0.66      0.65      0.65      9554\n",
      "weighted avg       0.66      0.66      0.66      9554\n",
      "\n"
     ]
    }
   ],
   "source": [
    "# try out different algorithms\n",
    "cat_features = [\"opening_eco\", \"rated\"]\n",
    "num_features = [\"white_rating\", \"black_rating\",\"opening_ply\",\"turns\"]\n",
    "\n",
    "classifier = [LinearSVC(), SVC(), DecisionTreeClassifier(), RandomForestClassifier(), LogisticRegression()]\n",
    "for alg in classifier:\n",
    "    print(\"RESULTS FOR\", alg, ':')\n",
    "    # pipeline\n",
    "    cat_pipe = Pipeline([\n",
    "        ('selector', ItemSelector(key=cat_features)),\n",
    "    ])\n",
    "\n",
    "    num_pipe = Pipeline([\n",
    "        ('selector', ItemSelector(key=num_features)),\n",
    "        ('scaler', StandardScaler())\n",
    "    ])\n",
    "\n",
    "    pipe = Pipeline([\n",
    "        ('features', FeatureUnion([\n",
    "            ('cat_pipe', cat_pipe),\n",
    "            ('num_pipe', num_pipe)\n",
    "        ])),\n",
    "        ('alg', alg)\n",
    "    ])\n",
    "\n",
    "    pipe.fit(X_train, y_train)\n",
    "    \n",
    "    # ZIE VERSCHIL EVALUATIE\n",
    "    \n",
    "    # GEBRUIK DEZE METHODE VOOR DEV EN TEST\n",
    "    #predictions = pipe.predict(X_dev)\n",
    "    #print(classification_report(y_dev, predictions))\n",
    "    \n",
    "    # GEBRUIK DEZE METHODE VOOR ALS JE BEZIG BENT OP TRAININGDATA\n",
    "    # = CROSS-VALIDATION METHODE = BETROUWBAARDER DAN GEWOON 1X PREDICTEN OP HOLDOUT SET WANT HANGT AF VAN SAMPLE\n",
    "    cv_results = cross_val_predict(pipe, X_train, y_train, cv=10, n_jobs=-1)\n",
    "    print(classification_report(y_train, cv_results))"
   ]
  },
  {
   "cell_type": "markdown",
   "metadata": {},
   "source": [
    "## Feature Reduction"
   ]
  },
  {
   "cell_type": "code",
   "execution_count": 17,
   "metadata": {},
   "outputs": [
    {
     "name": "stdout",
     "output_type": "stream",
     "text": [
      "RESULTS FOR LinearSVC() :\n",
      "              precision    recall  f1-score   support\n",
      "\n",
      "       black       0.66      0.58      0.62      4554\n",
      "       white       0.65      0.73      0.69      5000\n",
      "\n",
      "    accuracy                           0.66      9554\n",
      "   macro avg       0.66      0.65      0.65      9554\n",
      "weighted avg       0.66      0.66      0.65      9554\n",
      "\n",
      "RESULTS FOR SVC() :\n",
      "              precision    recall  f1-score   support\n",
      "\n",
      "       black       0.66      0.55      0.60      4554\n",
      "       white       0.65      0.74      0.69      5000\n",
      "\n",
      "    accuracy                           0.65      9554\n",
      "   macro avg       0.65      0.65      0.65      9554\n",
      "weighted avg       0.65      0.65      0.65      9554\n",
      "\n",
      "RESULTS FOR DecisionTreeClassifier() :\n",
      "              precision    recall  f1-score   support\n",
      "\n",
      "       black       0.58      0.59      0.58      4554\n",
      "       white       0.62      0.61      0.61      5000\n",
      "\n",
      "    accuracy                           0.60      9554\n",
      "   macro avg       0.60      0.60      0.60      9554\n",
      "weighted avg       0.60      0.60      0.60      9554\n",
      "\n",
      "RESULTS FOR RandomForestClassifier() :\n",
      "              precision    recall  f1-score   support\n",
      "\n",
      "       black       0.61      0.61      0.61      4554\n",
      "       white       0.65      0.65      0.65      5000\n",
      "\n",
      "    accuracy                           0.63      9554\n",
      "   macro avg       0.63      0.63      0.63      9554\n",
      "weighted avg       0.63      0.63      0.63      9554\n",
      "\n",
      "RESULTS FOR LogisticRegression() :\n",
      "              precision    recall  f1-score   support\n",
      "\n",
      "       black       0.66      0.58      0.62      4554\n",
      "       white       0.65      0.72      0.69      5000\n",
      "\n",
      "    accuracy                           0.66      9554\n",
      "   macro avg       0.66      0.65      0.65      9554\n",
      "weighted avg       0.66      0.66      0.65      9554\n",
      "\n"
     ]
    }
   ],
   "source": [
    "#Dimension reduction\n",
    "# based on rating alone\n",
    "\n",
    "num_features = [\"white_rating\", \"black_rating\"]\n",
    "\n",
    "classifier = [LinearSVC(), SVC(), DecisionTreeClassifier(), RandomForestClassifier(), LogisticRegression()]\n",
    "for alg in classifier:\n",
    "    print(\"RESULTS FOR\", alg, ':')\n",
    "    # pipeline\n",
    "\n",
    "    num_pipe = Pipeline([\n",
    "        ('selector', ItemSelector(key=num_features)),\n",
    "        ('scaler', StandardScaler())\n",
    "    ])\n",
    "\n",
    "    pipe = Pipeline([\n",
    "        ('features', FeatureUnion([\n",
    "            ('num_pipe', num_pipe)\n",
    "        ])),\n",
    "        ('alg', alg)\n",
    "    ])\n",
    "\n",
    "    pipe.fit(X_train, y_train)\n",
    "    cv_results = cross_val_predict(pipe, X_train, y_train, cv=10, n_jobs=-1)\n",
    "    print(classification_report(y_train, cv_results))"
   ]
  },
  {
   "cell_type": "code",
   "execution_count": 18,
   "metadata": {},
   "outputs": [
    {
     "name": "stdout",
     "output_type": "stream",
     "text": [
      "RESULTS FOR LinearSVC() :\n"
     ]
    },
    {
     "name": "stderr",
     "output_type": "stream",
     "text": [
      "C:\\Users\\robin\\anaconda3\\lib\\site-packages\\sklearn\\svm\\_base.py:976: ConvergenceWarning: Liblinear failed to converge, increase the number of iterations.\n",
      "  warnings.warn(\"Liblinear failed to converge, increase \"\n"
     ]
    },
    {
     "name": "stdout",
     "output_type": "stream",
     "text": [
      "              precision    recall  f1-score   support\n",
      "\n",
      "       black       0.53      0.58      0.55      4554\n",
      "       white       0.58      0.53      0.55      5000\n",
      "\n",
      "    accuracy                           0.55      9554\n",
      "   macro avg       0.55      0.55      0.55      9554\n",
      "weighted avg       0.55      0.55      0.55      9554\n",
      "\n",
      "RESULTS FOR SVC() :\n",
      "              precision    recall  f1-score   support\n",
      "\n",
      "       black       0.52      0.12      0.20      4554\n",
      "       white       0.53      0.90      0.66      5000\n",
      "\n",
      "    accuracy                           0.53      9554\n",
      "   macro avg       0.52      0.51      0.43      9554\n",
      "weighted avg       0.52      0.53      0.44      9554\n",
      "\n",
      "RESULTS FOR DecisionTreeClassifier() :\n",
      "              precision    recall  f1-score   support\n",
      "\n",
      "       black       0.59      0.59      0.59      4554\n",
      "       white       0.63      0.63      0.63      5000\n",
      "\n",
      "    accuracy                           0.61      9554\n",
      "   macro avg       0.61      0.61      0.61      9554\n",
      "weighted avg       0.61      0.61      0.61      9554\n",
      "\n",
      "RESULTS FOR RandomForestClassifier() :\n",
      "              precision    recall  f1-score   support\n",
      "\n",
      "       black       0.65      0.64      0.65      4554\n",
      "       white       0.68      0.69      0.68      5000\n",
      "\n",
      "    accuracy                           0.66      9554\n",
      "   macro avg       0.66      0.66      0.66      9554\n",
      "weighted avg       0.66      0.66      0.66      9554\n",
      "\n",
      "RESULTS FOR LogisticRegression() :\n",
      "              precision    recall  f1-score   support\n",
      "\n",
      "       black       0.66      0.59      0.62      4554\n",
      "       white       0.66      0.72      0.69      5000\n",
      "\n",
      "    accuracy                           0.66      9554\n",
      "   macro avg       0.66      0.65      0.65      9554\n",
      "weighted avg       0.66      0.66      0.66      9554\n",
      "\n"
     ]
    }
   ],
   "source": [
    "# - rating\n",
    "cat_features = [\"opening_eco\"]\n",
    "num_features = [\"white_rating\", \"black_rating\",\"opening_ply\",\"turns\"]\n",
    "\n",
    "classifier = [LinearSVC(), SVC(), DecisionTreeClassifier(), RandomForestClassifier(), LogisticRegression()]\n",
    "for alg in classifier:\n",
    "    print(\"RESULTS FOR\", alg, ':')\n",
    "    # pipeline\n",
    "    cat_pipe = Pipeline([\n",
    "        ('selector', ItemSelector(key=cat_features)),\n",
    "    ])\n",
    "\n",
    "    num_pipe = Pipeline([\n",
    "        ('selector', ItemSelector(key=num_features)),\n",
    "        ('scaler', StandardScaler())\n",
    "    ])\n",
    "\n",
    "    pipe = Pipeline([\n",
    "        ('features', FeatureUnion([\n",
    "            ('cat_pipe', cat_pipe),\n",
    "            ('num_pipe', num_pipe)\n",
    "        ])),\n",
    "        ('alg', alg)\n",
    "    ])\n",
    "\n",
    "    pipe.fit(X_train, y_train)\n",
    "    cv_results = cross_val_predict(pipe, X_train, y_train, cv=10, n_jobs=-1)\n",
    "    print(classification_report(y_train, cv_results))"
   ]
  },
  {
   "cell_type": "code",
   "execution_count": 19,
   "metadata": {},
   "outputs": [
    {
     "name": "stdout",
     "output_type": "stream",
     "text": [
      "RESULTS FOR LinearSVC() :\n"
     ]
    },
    {
     "name": "stderr",
     "output_type": "stream",
     "text": [
      "C:\\Users\\robin\\anaconda3\\lib\\site-packages\\sklearn\\svm\\_base.py:976: ConvergenceWarning: Liblinear failed to converge, increase the number of iterations.\n",
      "  warnings.warn(\"Liblinear failed to converge, increase \"\n"
     ]
    },
    {
     "name": "stdout",
     "output_type": "stream",
     "text": [
      "              precision    recall  f1-score   support\n",
      "\n",
      "       black       0.49      0.29      0.36      4554\n",
      "       white       0.53      0.72      0.61      5000\n",
      "\n",
      "    accuracy                           0.52      9554\n",
      "   macro avg       0.51      0.51      0.49      9554\n",
      "weighted avg       0.51      0.52      0.49      9554\n",
      "\n",
      "RESULTS FOR SVC() :\n",
      "              precision    recall  f1-score   support\n",
      "\n",
      "       black       0.52      0.12      0.20      4554\n",
      "       white       0.53      0.90      0.66      5000\n",
      "\n",
      "    accuracy                           0.53      9554\n",
      "   macro avg       0.52      0.51      0.43      9554\n",
      "weighted avg       0.52      0.53      0.44      9554\n",
      "\n",
      "RESULTS FOR DecisionTreeClassifier() :\n",
      "              precision    recall  f1-score   support\n",
      "\n",
      "       black       0.79      0.81      0.80      4554\n",
      "       white       0.83      0.80      0.81      5000\n",
      "\n",
      "    accuracy                           0.81      9554\n",
      "   macro avg       0.81      0.81      0.81      9554\n",
      "weighted avg       0.81      0.81      0.81      9554\n",
      "\n",
      "RESULTS FOR RandomForestClassifier() :\n",
      "              precision    recall  f1-score   support\n",
      "\n",
      "       black       0.62      0.61      0.62      4554\n",
      "       white       0.65      0.67      0.66      5000\n",
      "\n",
      "    accuracy                           0.64      9554\n",
      "   macro avg       0.64      0.64      0.64      9554\n",
      "weighted avg       0.64      0.64      0.64      9554\n",
      "\n",
      "RESULTS FOR LogisticRegression() :\n",
      "              precision    recall  f1-score   support\n",
      "\n",
      "       black       0.50      0.19      0.27      4554\n",
      "       white       0.53      0.83      0.65      5000\n",
      "\n",
      "    accuracy                           0.52      9554\n",
      "   macro avg       0.52      0.51      0.46      9554\n",
      "weighted avg       0.52      0.52      0.47      9554\n",
      "\n"
     ]
    }
   ],
   "source": [
    "#dimension reduction\n",
    "#- ratings and -rated\n",
    "cat_features = [\"opening_eco\",]\n",
    "num_features = [\"opening_ply\",\"turns\"]\n",
    "\n",
    "classifier = [LinearSVC(), SVC(), DecisionTreeClassifier(), RandomForestClassifier(), LogisticRegression()]\n",
    "for alg in classifier:\n",
    "    print(\"RESULTS FOR\", alg, ':')\n",
    "    # pipeline\n",
    "    cat_pipe = Pipeline([\n",
    "        ('selector', ItemSelector(key=cat_features)),\n",
    "    ])\n",
    "\n",
    "    num_pipe = Pipeline([\n",
    "        ('selector', ItemSelector(key=num_features)),\n",
    "        ('scaler', StandardScaler())\n",
    "    ])\n",
    "\n",
    "    pipe = Pipeline([\n",
    "        ('features', FeatureUnion([\n",
    "            ('cat_pipe', cat_pipe),\n",
    "            ('num_pipe', num_pipe)\n",
    "        ])),\n",
    "        ('alg', alg)\n",
    "    ])\n",
    "\n",
    "    pipe.fit(X_train, y_train)\n",
    "    cv_results = cross_val_predict(pipe, X_train, y_train, cv=10, n_jobs=-1)\n",
    "    print(classification_report(y_train, cv_results))\n",
    "\n",
    "#Decisiontree seems to perform vastly better than previous tests with this specific set of features!"
   ]
  },
  {
   "cell_type": "code",
   "execution_count": 20,
   "metadata": {},
   "outputs": [
    {
     "name": "stdout",
     "output_type": "stream",
     "text": [
      "RESULTS FOR LinearSVC() :\n"
     ]
    },
    {
     "name": "stderr",
     "output_type": "stream",
     "text": [
      "C:\\Users\\robin\\anaconda3\\lib\\site-packages\\sklearn\\svm\\_base.py:976: ConvergenceWarning: Liblinear failed to converge, increase the number of iterations.\n",
      "  warnings.warn(\"Liblinear failed to converge, increase \"\n"
     ]
    },
    {
     "name": "stdout",
     "output_type": "stream",
     "text": [
      "              precision    recall  f1-score   support\n",
      "\n",
      "       black       0.55      0.58      0.56      4554\n",
      "       white       0.60      0.57      0.58      5000\n",
      "\n",
      "    accuracy                           0.57      9554\n",
      "   macro avg       0.57      0.57      0.57      9554\n",
      "weighted avg       0.57      0.57      0.57      9554\n",
      "\n",
      "RESULTS FOR SVC() :\n",
      "              precision    recall  f1-score   support\n",
      "\n",
      "       black       0.52      0.12      0.20      4554\n",
      "       white       0.53      0.90      0.67      5000\n",
      "\n",
      "    accuracy                           0.53      9554\n",
      "   macro avg       0.53      0.51      0.43      9554\n",
      "weighted avg       0.53      0.53      0.44      9554\n",
      "\n",
      "RESULTS FOR DecisionTreeClassifier() :\n",
      "              precision    recall  f1-score   support\n",
      "\n",
      "       black       0.59      0.60      0.60      4554\n",
      "       white       0.63      0.63      0.63      5000\n",
      "\n",
      "    accuracy                           0.61      9554\n",
      "   macro avg       0.61      0.61      0.61      9554\n",
      "weighted avg       0.61      0.61      0.61      9554\n",
      "\n",
      "RESULTS FOR RandomForestClassifier() :\n",
      "              precision    recall  f1-score   support\n",
      "\n",
      "       black       0.66      0.65      0.65      4554\n",
      "       white       0.69      0.69      0.69      5000\n",
      "\n",
      "    accuracy                           0.67      9554\n",
      "   macro avg       0.67      0.67      0.67      9554\n",
      "weighted avg       0.67      0.67      0.67      9554\n",
      "\n",
      "RESULTS FOR LogisticRegression() :\n",
      "              precision    recall  f1-score   support\n",
      "\n",
      "       black       0.65      0.59      0.62      4554\n",
      "       white       0.66      0.72      0.69      5000\n",
      "\n",
      "    accuracy                           0.66      9554\n",
      "   macro avg       0.66      0.65      0.65      9554\n",
      "weighted avg       0.66      0.66      0.65      9554\n",
      "\n"
     ]
    }
   ],
   "source": [
    "#dimension reduction\n",
    "#- Opening_ply and -rated\n",
    "cat_features = [\"opening_eco\",]\n",
    "num_features = [\"white_rating\",\"black_rating\",\"turns\"]\n",
    "\n",
    "classifier = [LinearSVC(), SVC(), DecisionTreeClassifier(), RandomForestClassifier(), LogisticRegression()]\n",
    "for alg in classifier:\n",
    "    print(\"RESULTS FOR\", alg, ':')\n",
    "    # pipeline\n",
    "    cat_pipe = Pipeline([\n",
    "        ('selector', ItemSelector(key=cat_features)),\n",
    "    ])\n",
    "\n",
    "    num_pipe = Pipeline([\n",
    "        ('selector', ItemSelector(key=num_features)),\n",
    "        ('scaler', StandardScaler())\n",
    "    ])\n",
    "\n",
    "    pipe = Pipeline([\n",
    "        ('features', FeatureUnion([\n",
    "            ('cat_pipe', cat_pipe),\n",
    "            ('num_pipe', num_pipe)\n",
    "        ])),\n",
    "        ('alg', alg)\n",
    "    ])\n",
    "\n",
    "    pipe.fit(X_train, y_train)\n",
    "    cv_results = cross_val_predict(pipe, X_train, y_train, cv=10, n_jobs=-1)\n",
    "    print(classification_report(y_train, cv_results))\n",
    "    \n"
   ]
  },
  {
   "cell_type": "code",
   "execution_count": 21,
   "metadata": {},
   "outputs": [
    {
     "name": "stdout",
     "output_type": "stream",
     "text": [
      "RESULTS FOR LinearSVC() :\n"
     ]
    },
    {
     "name": "stderr",
     "output_type": "stream",
     "text": [
      "C:\\Users\\robin\\anaconda3\\lib\\site-packages\\sklearn\\svm\\_base.py:976: ConvergenceWarning: Liblinear failed to converge, increase the number of iterations.\n",
      "  warnings.warn(\"Liblinear failed to converge, increase \"\n"
     ]
    },
    {
     "name": "stdout",
     "output_type": "stream",
     "text": [
      "              precision    recall  f1-score   support\n",
      "\n",
      "       black       0.49      0.97      0.65      2277\n",
      "       white       0.72      0.07      0.13      2500\n",
      "\n",
      "    accuracy                           0.50      4777\n",
      "   macro avg       0.60      0.52      0.39      4777\n",
      "weighted avg       0.61      0.50      0.38      4777\n",
      "\n",
      "RESULTS FOR SVC() :\n",
      "              precision    recall  f1-score   support\n",
      "\n",
      "       black       0.50      0.12      0.20      2277\n",
      "       white       0.53      0.89      0.66      2500\n",
      "\n",
      "    accuracy                           0.52      4777\n",
      "   macro avg       0.51      0.50      0.43      4777\n",
      "weighted avg       0.51      0.52      0.44      4777\n",
      "\n",
      "RESULTS FOR DecisionTreeClassifier() :\n",
      "              precision    recall  f1-score   support\n",
      "\n",
      "       black       0.58      0.57      0.58      2277\n",
      "       white       0.62      0.62      0.62      2500\n",
      "\n",
      "    accuracy                           0.60      4777\n",
      "   macro avg       0.60      0.60      0.60      4777\n",
      "weighted avg       0.60      0.60      0.60      4777\n",
      "\n",
      "RESULTS FOR RandomForestClassifier() :\n",
      "              precision    recall  f1-score   support\n",
      "\n",
      "       black       0.62      0.61      0.61      2277\n",
      "       white       0.65      0.66      0.66      2500\n",
      "\n",
      "    accuracy                           0.64      4777\n",
      "   macro avg       0.64      0.63      0.63      4777\n",
      "weighted avg       0.64      0.64      0.64      4777\n",
      "\n",
      "RESULTS FOR LogisticRegression() :\n",
      "              precision    recall  f1-score   support\n",
      "\n",
      "       black       0.64      0.56      0.60      2277\n",
      "       white       0.64      0.72      0.68      2500\n",
      "\n",
      "    accuracy                           0.64      4777\n",
      "   macro avg       0.64      0.64      0.64      4777\n",
      "weighted avg       0.64      0.64      0.64      4777\n",
      "\n"
     ]
    }
   ],
   "source": [
    "#dimension reduction\n",
    "#- Opening_ply and -rated\n",
    "cat_features = [\"opening_eco\",]\n",
    "num_features = [\"white_rating\",\"black_rating\"]\n",
    "\n",
    "classifier = [LinearSVC(), SVC(), DecisionTreeClassifier(), RandomForestClassifier(), LogisticRegression()]\n",
    "for alg in classifier:\n",
    "    print(\"RESULTS FOR\", alg, ':')\n",
    "    # pipeline\n",
    "    cat_pipe = Pipeline([\n",
    "        ('selector', ItemSelector(key=cat_features)),\n",
    "    ])\n",
    "\n",
    "    num_pipe = Pipeline([\n",
    "        ('selector', ItemSelector(key=num_features)),\n",
    "        ('scaler', StandardScaler())\n",
    "    ])\n",
    "\n",
    "    pipe = Pipeline([\n",
    "        ('features', FeatureUnion([\n",
    "            ('cat_pipe', cat_pipe),\n",
    "            ('num_pipe', num_pipe)\n",
    "        ])),\n",
    "        ('alg', alg)\n",
    "    ])\n",
    "\n",
    "    pipe.fit(X_train, y_train)\n",
    "    predictions = pipe.predict(X_dev)\n",
    "    print(classification_report(y_dev, predictions))\n",
    "\n",
    "#Decisiontree seems to perform vastly better than previous tests with this specific set of features!"
   ]
  },
  {
   "cell_type": "markdown",
   "metadata": {},
   "source": [
    "Based on the models above, it seems like the DecisciontreeLearner performs best when used without the ratings of the players, \n",
    "and without the label if the game is rated or not:\n",
    "Shows that this data is more able to show the 'theoretical' outcome of chess, player skill seems to be a variable that causes a lot of noise\n",
    "\n"
   ]
  },
  {
   "cell_type": "markdown",
   "metadata": {},
   "source": [
    "## Hyperparameter optimization (gridsearch)"
   ]
  },
  {
   "cell_type": "code",
   "execution_count": 22,
   "metadata": {},
   "outputs": [],
   "source": [
    "from sklearn.model_selection import GridSearchCV, RandomizedSearchCV"
   ]
  },
  {
   "cell_type": "code",
   "execution_count": 46,
   "metadata": {},
   "outputs": [
    {
     "name": "stdout",
     "output_type": "stream",
     "text": [
      "RESULTS FOR LinearSVC() :\n",
      "RESULTS FOR SVC() :\n",
      "RESULTS FOR DecisionTreeClassifier() :\n",
      "RESULTS FOR RandomForestClassifier() :\n",
      "RESULTS FOR LogisticRegression() :\n",
      "              precision    recall  f1-score   support\n",
      "\n",
      "       black       0.50      0.19      0.27      4554\n",
      "       white       0.53      0.83      0.65      5000\n",
      "\n",
      "    accuracy                           0.52      9554\n",
      "   macro avg       0.52      0.51      0.46      9554\n",
      "weighted avg       0.52      0.52      0.47      9554\n",
      "\n"
     ]
    }
   ],
   "source": [
    "##make final pipeline\n",
    "\n",
    "#dimension reduction\n",
    "#- ratings and -rated\n",
    "cat_features = [\"opening_eco\",]\n",
    "num_features = [\"opening_ply\",\"turns\"]\n",
    "\n",
    "classifier = [LinearSVC(), SVC(), DecisionTreeClassifier(), RandomForestClassifier(), LogisticRegression()]\n",
    "for alg in classifier:\n",
    "    print(\"RESULTS FOR\", alg, ':')\n",
    "    # pipeline\n",
    "    cat_pipe = Pipeline([\n",
    "        ('selector', ItemSelector(key=cat_features)),\n",
    "    ])\n",
    "\n",
    "    num_pipe = Pipeline([\n",
    "        ('selector', ItemSelector(key=num_features)),\n",
    "        ('scaler', StandardScaler())\n",
    "    ])\n",
    "\n",
    "    pipe = Pipeline([\n",
    "        ('features', FeatureUnion([\n",
    "            ('cat_pipe', cat_pipe),\n",
    "            ('num_pipe', num_pipe)\n",
    "        ])),\n",
    "        ('alg', alg)\n",
    "    ])\n",
    "\n",
    "pipe.fit(X_train, y_train)\n",
    "cross_val_results = cross_val_predict(pipe, X_train, y_train, cv=10, n_jobs=-1)\n",
    "print(classification_report(y_train, cross_val_results))\n",
    "\n"
   ]
  },
  {
   "cell_type": "code",
   "execution_count": 45,
   "metadata": {},
   "outputs": [
    {
     "name": "stdout",
     "output_type": "stream",
     "text": [
      "              precision    recall  f1-score   support\n",
      "\n",
      "       black       0.79      0.81      0.80      4554\n",
      "       white       0.83      0.80      0.81      5000\n",
      "\n",
      "    accuracy                           0.81      9554\n",
      "   macro avg       0.81      0.81      0.81      9554\n",
      "weighted avg       0.81      0.81      0.81      9554\n",
      "\n"
     ]
    }
   ],
   "source": [
    "##make final pipeline\n",
    "\n",
    "#dimension reduction\n",
    "#- ratings and -rated\n",
    "cat_features = [\"opening_eco\",]\n",
    "num_features = [\"opening_ply\",\"turns\"]\n",
    "\n",
    "classifier = DecisionTreeClassifier()\n",
    "\n",
    "    # pipeline\n",
    "cat_pipe = Pipeline([\n",
    "        ('selector', ItemSelector(key=cat_features)),\n",
    "])\n",
    "\n",
    "num_pipe = Pipeline([\n",
    "        ('selector', ItemSelector(key=num_features)),\n",
    "        ('scaler', StandardScaler())\n",
    "])\n",
    "\n",
    "pipe = Pipeline([\n",
    "        ('features', FeatureUnion([\n",
    "            ('cat_pipe', cat_pipe),\n",
    "            ('num_pipe', num_pipe)\n",
    "        ])),\n",
    "        ('alg', classifier)\n",
    "])\n",
    "\n",
    "pipe.fit(X_train, y_train)\n",
    "cross_val_results = cross_val_predict(pipe, X_train, y_train, cv=10, n_jobs=-1)\n",
    "print(classification_report(y_train, cross_val_results))\n",
    "\n",
    "#Decisiontree seems to perform vastly better than previous tests with this specific set of features!\n"
   ]
  },
  {
   "cell_type": "code",
   "execution_count": 25,
   "metadata": {},
   "outputs": [
    {
     "data": {
      "text/plain": [
       "{'ccp_alpha': 0.0,\n",
       " 'class_weight': None,\n",
       " 'criterion': 'gini',\n",
       " 'max_depth': None,\n",
       " 'max_features': None,\n",
       " 'max_leaf_nodes': None,\n",
       " 'min_impurity_decrease': 0.0,\n",
       " 'min_impurity_split': None,\n",
       " 'min_samples_leaf': 1,\n",
       " 'min_samples_split': 2,\n",
       " 'min_weight_fraction_leaf': 0.0,\n",
       " 'presort': 'deprecated',\n",
       " 'random_state': None,\n",
       " 'splitter': 'best'}"
      ]
     },
     "execution_count": 25,
     "metadata": {},
     "output_type": "execute_result"
    }
   ],
   "source": [
    "classifier.get_params()"
   ]
  },
  {
   "cell_type": "code",
   "execution_count": 26,
   "metadata": {},
   "outputs": [
    {
     "data": {
      "text/plain": [
       "range(1, 20)"
      ]
     },
     "execution_count": 26,
     "metadata": {},
     "output_type": "execute_result"
    }
   ],
   "source": [
    "range(1,20)"
   ]
  },
  {
   "cell_type": "code",
   "execution_count": 27,
   "metadata": {},
   "outputs": [],
   "source": [
    "param_dic = {'alg__criterion': ['gini','entropy'],\n",
    "               'alg__max_depth': [1,5,10,50,100, None],\n",
    "             'alg__max_features' : [1,2,3,4,5,None]\n",
    "             \n",
    "              }"
   ]
  },
  {
   "cell_type": "code",
   "execution_count": 28,
   "metadata": {},
   "outputs": [],
   "source": [
    "grid = GridSearchCV(pipe, param_grid= param_dic, scoring='accuracy', cv = 10, n_jobs= 6, verbose= 2 )"
   ]
  },
  {
   "cell_type": "code",
   "execution_count": 29,
   "metadata": {},
   "outputs": [
    {
     "name": "stdout",
     "output_type": "stream",
     "text": [
      "Fitting 10 folds for each of 72 candidates, totalling 720 fits\n"
     ]
    },
    {
     "name": "stderr",
     "output_type": "stream",
     "text": [
      "[Parallel(n_jobs=6)]: Using backend LokyBackend with 6 concurrent workers.\n",
      "[Parallel(n_jobs=6)]: Done  29 tasks      | elapsed:    1.6s\n",
      "[Parallel(n_jobs=6)]: Done 720 out of 720 | elapsed:    4.7s finished\n"
     ]
    }
   ],
   "source": [
    "gridsearch = grid.fit(X_train, y_train)"
   ]
  },
  {
   "cell_type": "code",
   "execution_count": 30,
   "metadata": {},
   "outputs": [
    {
     "data": {
      "text/plain": [
       "{'alg__criterion': 'entropy',\n",
       " 'alg__max_depth': None,\n",
       " 'alg__max_features': None}"
      ]
     },
     "execution_count": 30,
     "metadata": {},
     "output_type": "execute_result"
    }
   ],
   "source": [
    "gridsearch.best_params_"
   ]
  },
  {
   "cell_type": "code",
   "execution_count": 31,
   "metadata": {},
   "outputs": [
    {
     "data": {
      "text/plain": [
       "0.8147355911410983"
      ]
     },
     "execution_count": 31,
     "metadata": {},
     "output_type": "execute_result"
    }
   ],
   "source": [
    "gridsearch.best_score_\n"
   ]
  },
  {
   "cell_type": "markdown",
   "metadata": {},
   "source": [
    "#### Comparing to next best model: Random Forest"
   ]
  },
  {
   "cell_type": "code",
   "execution_count": 44,
   "metadata": {},
   "outputs": [
    {
     "name": "stdout",
     "output_type": "stream",
     "text": [
      "              precision    recall  f1-score   support\n",
      "\n",
      "       black       0.63      0.61      0.62      4554\n",
      "       white       0.65      0.67      0.66      5000\n",
      "\n",
      "    accuracy                           0.64      9554\n",
      "   macro avg       0.64      0.64      0.64      9554\n",
      "weighted avg       0.64      0.64      0.64      9554\n",
      "\n"
     ]
    }
   ],
   "source": [
    "#Random Forest\n",
    "\n",
    "cat_features = [\"opening_eco\",]\n",
    "num_features = [\"opening_ply\",\"turns\"]\n",
    "\n",
    "classifier = RandomForestClassifier()\n",
    "\n",
    "    # pipeline\n",
    "cat_pipe = Pipeline([\n",
    "        ('selector', ItemSelector(key=cat_features)),\n",
    "])\n",
    "\n",
    "num_pipe = Pipeline([\n",
    "        ('selector', ItemSelector(key=num_features)),\n",
    "        ('scaler', StandardScaler())\n",
    "])\n",
    "\n",
    "pipe = Pipeline([\n",
    "        ('features', FeatureUnion([\n",
    "            ('cat_pipe', cat_pipe),\n",
    "            ('num_pipe', num_pipe)\n",
    "        ])),\n",
    "        ('alg', classifier)\n",
    "])\n",
    "\n",
    "pipe.fit(X_train, y_train)\n",
    "cross_val_results = cross_val_predict(pipe, X_train, y_train, cv=10, n_jobs=-1)\n",
    "print(classification_report(y_train, cross_val_results))\n"
   ]
  },
  {
   "cell_type": "code",
   "execution_count": 33,
   "metadata": {},
   "outputs": [
    {
     "data": {
      "text/plain": [
       "{'bootstrap': True,\n",
       " 'ccp_alpha': 0.0,\n",
       " 'class_weight': None,\n",
       " 'criterion': 'gini',\n",
       " 'max_depth': None,\n",
       " 'max_features': 'auto',\n",
       " 'max_leaf_nodes': None,\n",
       " 'max_samples': None,\n",
       " 'min_impurity_decrease': 0.0,\n",
       " 'min_impurity_split': None,\n",
       " 'min_samples_leaf': 1,\n",
       " 'min_samples_split': 2,\n",
       " 'min_weight_fraction_leaf': 0.0,\n",
       " 'n_estimators': 100,\n",
       " 'n_jobs': None,\n",
       " 'oob_score': False,\n",
       " 'random_state': None,\n",
       " 'verbose': 0,\n",
       " 'warm_start': False}"
      ]
     },
     "execution_count": 33,
     "metadata": {},
     "output_type": "execute_result"
    }
   ],
   "source": [
    "classifier.get_params()"
   ]
  },
  {
   "cell_type": "code",
   "execution_count": 34,
   "metadata": {},
   "outputs": [],
   "source": [
    "forest_dic = {\n",
    "    'alg__bootstrap': [True, False],\n",
    " 'alg__max_depth': [10,50,100, None],\n",
    " 'alg__n_estimators': [10,20,50,100,200]}"
   ]
  },
  {
   "cell_type": "code",
   "execution_count": 35,
   "metadata": {},
   "outputs": [],
   "source": [
    "grid2 = GridSearchCV(pipe, param_grid= forest_dic, scoring='accuracy', cv = 10, n_jobs= 6, verbose= 2 )"
   ]
  },
  {
   "cell_type": "code",
   "execution_count": 36,
   "metadata": {},
   "outputs": [
    {
     "name": "stdout",
     "output_type": "stream",
     "text": [
      "Fitting 10 folds for each of 40 candidates, totalling 400 fits\n"
     ]
    },
    {
     "name": "stderr",
     "output_type": "stream",
     "text": [
      "[Parallel(n_jobs=6)]: Using backend LokyBackend with 6 concurrent workers.\n",
      "[Parallel(n_jobs=6)]: Done  29 tasks      | elapsed:    2.4s\n",
      "[Parallel(n_jobs=6)]: Done 150 tasks      | elapsed:   15.0s\n",
      "[Parallel(n_jobs=6)]: Done 353 tasks      | elapsed:   40.0s\n",
      "[Parallel(n_jobs=6)]: Done 400 out of 400 | elapsed:   48.9s finished\n"
     ]
    }
   ],
   "source": [
    "gridsearch2 = grid2.fit(X_train, y_train)"
   ]
  },
  {
   "cell_type": "code",
   "execution_count": 37,
   "metadata": {},
   "outputs": [
    {
     "data": {
      "text/plain": [
       "{'alg__bootstrap': True, 'alg__max_depth': 50, 'alg__n_estimators': 10}"
      ]
     },
     "execution_count": 37,
     "metadata": {},
     "output_type": "execute_result"
    }
   ],
   "source": [
    "gridsearch2.best_params_"
   ]
  },
  {
   "cell_type": "code",
   "execution_count": 38,
   "metadata": {},
   "outputs": [
    {
     "data": {
      "text/plain": [
       "0.6445480733422418"
      ]
     },
     "execution_count": 38,
     "metadata": {},
     "output_type": "execute_result"
    }
   ],
   "source": [
    "gridsearch2.best_score_"
   ]
  },
  {
   "cell_type": "markdown",
   "metadata": {},
   "source": [
    "Desciontree vastly outperforms all other algoritms. \n",
    "Some notes:\n",
    "- Almost all models have a better accuracy on white than on black (except for LinearSVC which has pretty much no accuracy on white)\n",
    "- there is a clear distinction or hierarchy to be made to be made between different algorithms in perfomance\n",
    "- as we already expected, finetuneing the model does not give a major increase in performance\n",
    "    - it should be noted here that the parameter selection did have a high impact on the gridsearch performance\n",
    "    \n",
    "    - in a first instance, the Decisciontree model performed significantly worse under gridsearch with different parameter tuning"
   ]
  },
  {
   "cell_type": "markdown",
   "metadata": {},
   "source": [
    "## Evalutation"
   ]
  },
  {
   "cell_type": "markdown",
   "metadata": {},
   "source": [
    "Evaluation and comparison of the results with different ML algorithms:\n"
   ]
  },
  {
   "cell_type": "markdown",
   "metadata": {},
   "source": [
    "### DeciscionTree"
   ]
  },
  {
   "cell_type": "code",
   "execution_count": 63,
   "metadata": {},
   "outputs": [],
   "source": [
    "##make final pipeline\n",
    "\n",
    "#dimension reduction\n",
    "#- ratings and -rated\n",
    "cat_features = [\"opening_eco\",]\n",
    "num_features = [\"opening_ply\",\"turns\"]\n",
    "\n",
    "classifier = DecisionTreeClassifier(criterion = 'entropy', max_depth = 100, max_features = None)\n",
    "\n",
    "    # pipeline\n",
    "cat_pipe = Pipeline([\n",
    "        ('selector', ItemSelector(key=cat_features)),\n",
    "])\n",
    "\n",
    "num_pipe = Pipeline([\n",
    "        ('selector', ItemSelector(key=num_features)),\n",
    "        ('scaler', StandardScaler())\n",
    "])\n",
    "\n",
    "dec_pipe = Pipeline([\n",
    "        ('features', FeatureUnion([\n",
    "            ('cat_pipe', cat_pipe),\n",
    "            ('num_pipe', num_pipe)\n",
    "        ])),\n",
    "        ('alg', classifier)\n",
    "])"
   ]
  },
  {
   "cell_type": "code",
   "execution_count": 64,
   "metadata": {},
   "outputs": [
    {
     "name": "stdout",
     "output_type": "stream",
     "text": [
      "              precision    recall  f1-score   support\n",
      "\n",
      "       black       0.77      0.83      0.80      2277\n",
      "       white       0.84      0.77      0.80      2500\n",
      "\n",
      "    accuracy                           0.80      4777\n",
      "   macro avg       0.80      0.80      0.80      4777\n",
      "weighted avg       0.80      0.80      0.80      4777\n",
      "\n",
      "<sklearn.metrics._plot.confusion_matrix.ConfusionMatrixDisplay object at 0x000001B80BBC51F0>\n"
     ]
    },
    {
     "data": {
      "image/png": "[encoded data removed]",
      "text/plain": [
       "<Figure size 432x288 with 2 Axes>"
      ]
     },
     "metadata": {
      "needs_background": "light"
     },
     "output_type": "display_data"
    }
   ],
   "source": [
    "from sklearn.metrics import plot_confusion_matrix\n",
    "final_model = dec_pipe.fit(X_train, y_train)\n",
    "final_prediction = final_model.predict(X_dev)\n",
    "\n",
    "print(classification_report(y_dev, final_prediction))\n",
    "print(plot_confusion_matrix(final_model,X_dev,y_dev))"
   ]
  },
  {
   "cell_type": "markdown",
   "metadata": {},
   "source": [
    "slightly worse performance on white"
   ]
  },
  {
   "cell_type": "markdown",
   "metadata": {},
   "source": [
    "## Learning curve"
   ]
  },
  {
   "cell_type": "code",
   "execution_count": 62,
   "metadata": {},
   "outputs": [],
   "source": [
    "from sklearn.model_selection import learning_curve"
   ]
  },
  {
   "cell_type": "code",
   "execution_count": 67,
   "metadata": {
    "collapsed": true,
    "jupyter": {
     "outputs_hidden": true
    }
   },
   "outputs": [
    {
     "data": {
      "text/plain": [
       "(array([ 859, 2794, 4728, 6663, 8598]),\n",
       " array([[0.99883586, 0.99185099, 0.99185099, 0.99185099, 0.99185099,\n",
       "         0.99185099, 0.99185099, 0.99185099, 0.99185099, 0.99185099],\n",
       "        [0.98747316, 0.98353615, 0.98282033, 0.9853257 , 0.9853257 ,\n",
       "         0.9853257 , 0.9853257 , 0.9853257 , 0.9853257 , 0.9853257 ],\n",
       "        [0.97652284, 0.97335025, 0.96150592, 0.97631134, 0.9748308 ,\n",
       "         0.97736887, 0.97736887, 0.97736887, 0.97736887, 0.97736887],\n",
       "        [0.96983341, 0.94687078, 0.95407474, 0.969083  , 0.96848267,\n",
       "         0.95467507, 0.9681825 , 0.96938316, 0.96938316, 0.96938316],\n",
       "        [0.94417306, 0.94056757, 0.94649919, 0.94498721, 0.94301   ,\n",
       "         0.94556874, 0.94452198, 0.94335892, 0.94626657, 0.94382415]]),\n",
       " array([[0.65271967, 0.61401674, 0.58682008, 0.61192469, 0.6104712 ,\n",
       "         0.64712042, 0.59057592, 0.61675393, 0.57696335, 0.58115183],\n",
       "        [0.75209205, 0.7416318 , 0.7667364 , 0.7876569 , 0.79162304,\n",
       "         0.78010471, 0.77382199, 0.79895288, 0.79685864, 0.78534031],\n",
       "        [0.7876569 , 0.7792887 , 0.82845188, 0.81066946, 0.8104712 ,\n",
       "         0.77591623, 0.78743455, 0.79790576, 0.81675393, 0.78429319],\n",
       "        [0.80857741, 0.80439331, 0.80020921, 0.82322176, 0.79581152,\n",
       "         0.78010471, 0.81675393, 0.81151832, 0.80837696, 0.81361257],\n",
       "        [0.80962343, 0.80648536, 0.80962343, 0.80648536, 0.8       ,\n",
       "         0.77905759, 0.7947644 , 0.81256545, 0.78429319, 0.81256545]]))"
      ]
     },
     "execution_count": 67,
     "metadata": {},
     "output_type": "execute_result"
    }
   ],
   "source": [
    "learning_curve(estimator = dec_pipe, X= X_train, y= y_train, cv = 10)"
   ]
  },
  {
   "cell_type": "code",
   "execution_count": 68,
   "metadata": {},
   "outputs": [],
   "source": [
    "train_sizes, train_scores, test_scores = learning_curve(estimator=dec_pipe, X=X_train, y=y_train, cv=10)"
   ]
  },
  {
   "cell_type": "code",
   "execution_count": 69,
   "metadata": {},
   "outputs": [
    {
     "data": {
      "image/png": "[encoded data removed]",
      "text/plain": [
       "<Figure size 432x288 with 1 Axes>"
      ]
     },
     "metadata": {
      "needs_background": "light"
     },
     "output_type": "display_data"
    }
   ],
   "source": [
    "train_mean = np.mean(train_scores, axis=1)\n",
    "train_std = np.std(train_scores, axis=1)\n",
    "test_mean = np.mean(test_scores, axis=1)\n",
    "test_std = np.std(test_scores, axis=1)\n",
    "\n",
    "\n",
    "plt.plot(train_sizes, train_mean, color='blue', marker='o')\n",
    "plt.fill_between(train_sizes, train_mean+train_std, train_mean-train_std, alpha=0.15, color='blue')\n",
    "plt.plot(train_sizes, test_mean, color='green', marker='s')\n",
    "plt.fill_between(train_sizes, test_mean+test_std, test_mean-test_std, alpha=0.15, color='green')\n",
    "plt.grid()\n",
    "plt.show()"
   ]
  },
  {
   "cell_type": "markdown",
   "metadata": {},
   "source": [
    "## Validation Curve"
   ]
  },
  {
   "cell_type": "code",
   "execution_count": 72,
   "metadata": {},
   "outputs": [],
   "source": [
    "from sklearn.model_selection import validation_curve"
   ]
  },
  {
   "cell_type": "code",
   "execution_count": 78,
   "metadata": {},
   "outputs": [],
   "source": [
    "param_range = [0.01, 0.1, 1.0, 10.0, 100.0, 200.0,500.0]\n",
    "train_scores, test_scores = validation_curve(estimator=dec_pipe, X=X_train, y=y_train, param_name='alg__max_depth', param_range=param_range, cv=10)"
   ]
  },
  {
   "cell_type": "code",
   "execution_count": 79,
   "metadata": {},
   "outputs": [
    {
     "name": "stdout",
     "output_type": "stream",
     "text": [
      "[0.52334101 0.52334101 0.53231938 0.58702593 0.94428162 0.96418021\n",
      " 0.96418021] [2.98176042e-05 2.98176042e-05 5.90915588e-03 4.67982315e-03\n",
      " 1.66021062e-03 6.74618939e-04 6.74618939e-04] [0.52334115 0.52334115 0.52941017 0.56813939 0.80395332 0.81379318\n",
      " 0.81264201] [0.0002683  0.0002683  0.00549416 0.00753648 0.01265551 0.01263306\n",
      " 0.01152753]\n"
     ]
    }
   ],
   "source": [
    "train_mean = np.mean(train_scores, axis=1)\n",
    "train_std = np.std(train_scores, axis=1)\n",
    "test_mean = np.mean(test_scores, axis=1)\n",
    "test_std = np.std(test_scores, axis=1)\n",
    "print(train_mean, train_std, test_mean, test_std)"
   ]
  },
  {
   "cell_type": "code",
   "execution_count": 80,
   "metadata": {},
   "outputs": [
    {
     "data": {
      "image/png": "[encoded data removed]",
      "text/plain": [
       "<Figure size 432x288 with 1 Axes>"
      ]
     },
     "metadata": {
      "needs_background": "light"
     },
     "output_type": "display_data"
    }
   ],
   "source": [
    "plt.plot(param_range, train_mean, color='blue', marker='o')\n",
    "plt.fill_between(param_range, train_mean+train_std, train_mean-train_std, alpha=0.15, color='blue')\n",
    "plt.plot(param_range, test_mean, color='green', marker='s')\n",
    "plt.fill_between(param_range, test_mean+test_std, test_mean-test_std, alpha=0.15, color='green')\n",
    "plt.grid()\n",
    "plt.xscale('log')\n",
    "plt.show()"
   ]
  },
  {
   "cell_type": "markdown",
   "metadata": {},
   "source": [
    "### RandomForest"
   ]
  },
  {
   "cell_type": "code",
   "execution_count": 65,
   "metadata": {},
   "outputs": [],
   "source": [
    "#final pipeline\n",
    "cat_features = [\"opening_eco\",]\n",
    "num_features = [\"opening_ply\",\"turns\"]\n",
    "\n",
    "classifier = RandomForestClassifier(bootstrap = True, max_depth = 100, n_estimators =20)\n",
    "\n",
    "    # pipeline\n",
    "cat_pipe = Pipeline([\n",
    "        ('selector', ItemSelector(key=cat_features)),\n",
    "])\n",
    "\n",
    "num_pipe = Pipeline([\n",
    "        ('selector', ItemSelector(key=num_features)),\n",
    "        ('scaler', StandardScaler())\n",
    "])\n",
    "\n",
    "forest_pipe = Pipeline([\n",
    "        ('features', FeatureUnion([\n",
    "            ('cat_pipe', cat_pipe),\n",
    "            ('num_pipe', num_pipe)\n",
    "        ])),\n",
    "        ('alg', classifier)\n",
    "])\n",
    "\n"
   ]
  },
  {
   "cell_type": "code",
   "execution_count": 66,
   "metadata": {},
   "outputs": [
    {
     "name": "stdout",
     "output_type": "stream",
     "text": [
      "              precision    recall  f1-score   support\n",
      "\n",
      "       black       0.62      0.63      0.62      2277\n",
      "       white       0.66      0.65      0.65      2500\n",
      "\n",
      "    accuracy                           0.64      4777\n",
      "   macro avg       0.64      0.64      0.64      4777\n",
      "weighted avg       0.64      0.64      0.64      4777\n",
      "\n",
      "<sklearn.metrics._plot.confusion_matrix.ConfusionMatrixDisplay object at 0x000001B80CE18820>\n"
     ]
    },
    {
     "data": {
      "image/png": "[encoded data removed]",
      "text/plain": [
       "<Figure size 432x288 with 2 Axes>"
      ]
     },
     "metadata": {
      "needs_background": "light"
     },
     "output_type": "display_data"
    }
   ],
   "source": [
    "final_model2 = forest_pipe.fit(X_train, y_train)\n",
    "final_prediction2 = final_model2.predict(X_dev)\n",
    "\n",
    "print(classification_report(y_dev, final_prediction2))\n",
    "print(plot_confusion_matrix(final_model2, X_dev, y_dev))"
   ]
  },
  {
   "cell_type": "markdown",
   "metadata": {},
   "source": [
    "minor increase"
   ]
  },
  {
   "cell_type": "markdown",
   "metadata": {},
   "source": [
    "### Learning curve"
   ]
  },
  {
   "cell_type": "code",
   "execution_count": 81,
   "metadata": {
    "collapsed": true,
    "jupyter": {
     "outputs_hidden": true
    }
   },
   "outputs": [
    {
     "data": {
      "text/plain": [
       "(array([ 859, 2794, 4728, 6663, 8598]),\n",
       " array([[0.99534342, 0.98603027, 0.98486612, 0.98020955, 0.98835856,\n",
       "         0.98835856, 0.98603027, 0.98719441, 0.98719441, 0.98603027],\n",
       "        [0.9781675 , 0.97602004, 0.97673586, 0.97888332, 0.98031496,\n",
       "         0.98067287, 0.97959914, 0.97924123, 0.97852541, 0.98067287],\n",
       "        [0.97081218, 0.96890863, 0.96827411, 0.96933164, 0.96806261,\n",
       "         0.97081218, 0.9714467 , 0.97081218, 0.97229272, 0.97123519],\n",
       "        [0.96383011, 0.96383011, 0.96142879, 0.96458052, 0.96488068,\n",
       "         0.96458052, 0.96413027, 0.96383011, 0.96488068, 0.96352994],\n",
       "        [0.95859502, 0.9581298 , 0.95661782, 0.95882763, 0.95836241,\n",
       "         0.95964178, 0.960107  , 0.95871133, 0.9599907 , 0.95836241]]),\n",
       " array([[0.5376569 , 0.56380753, 0.52719665, 0.51046025, 0.53507853,\n",
       "         0.56020942, 0.54450262, 0.54764398, 0.56544503, 0.5486911 ],\n",
       "        [0.58682008, 0.55962343, 0.57217573, 0.57008368, 0.5947644 ,\n",
       "         0.61151832, 0.6       , 0.60104712, 0.60418848, 0.60314136],\n",
       "        [0.62029289, 0.62029289, 0.60146444, 0.59937238, 0.59895288,\n",
       "         0.60732984, 0.62198953, 0.61989529, 0.62931937, 0.57696335],\n",
       "        [0.64330544, 0.62866109, 0.62029289, 0.62343096, 0.63560209,\n",
       "         0.61780105, 0.62617801, 0.63350785, 0.6104712 , 0.64816754],\n",
       "        [0.65062762, 0.62656904, 0.64853556, 0.62866109, 0.64712042,\n",
       "         0.62827225, 0.65445026, 0.66073298, 0.62303665, 0.63769634]]))"
      ]
     },
     "execution_count": 81,
     "metadata": {},
     "output_type": "execute_result"
    }
   ],
   "source": [
    "learning_curve(estimator = forest_pipe, X= X_train, y= y_train, cv = 10)"
   ]
  },
  {
   "cell_type": "code",
   "execution_count": 83,
   "metadata": {},
   "outputs": [],
   "source": [
    "train_sizes, train_scores, test_scores = learning_curve(estimator=forest_pipe, X=X_train, y=y_train, cv=10)"
   ]
  },
  {
   "cell_type": "code",
   "execution_count": 84,
   "metadata": {},
   "outputs": [
    {
     "data": {
      "image/png": "[encoded data removed]",
      "text/plain": [
       "<Figure size 432x288 with 1 Axes>"
      ]
     },
     "metadata": {
      "needs_background": "light"
     },
     "output_type": "display_data"
    }
   ],
   "source": [
    "train_mean = np.mean(train_scores, axis=1)\n",
    "train_std = np.std(train_scores, axis=1)\n",
    "test_mean = np.mean(test_scores, axis=1)\n",
    "test_std = np.std(test_scores, axis=1)\n",
    "\n",
    "\n",
    "plt.plot(train_sizes, train_mean, color='blue', marker='o')\n",
    "plt.fill_between(train_sizes, train_mean+train_std, train_mean-train_std, alpha=0.15, color='blue')\n",
    "plt.plot(train_sizes, test_mean, color='green', marker='s')\n",
    "plt.fill_between(train_sizes, test_mean+test_std, test_mean-test_std, alpha=0.15, color='green')\n",
    "plt.grid()"
   ]
  },
  {
   "cell_type": "markdown",
   "metadata": {},
   "source": [
    "### Validation curve"
   ]
  },
  {
   "cell_type": "code",
   "execution_count": 88,
   "metadata": {},
   "outputs": [],
   "source": [
    "param_range = [1,5,10,50,100,200]\n",
    "train_scores, test_scores = validation_curve(estimator=forest_pipe, X=X_train, y=y_train, param_name='alg__max_depth', param_range=param_range, cv=10)"
   ]
  },
  {
   "cell_type": "code",
   "execution_count": 89,
   "metadata": {
    "collapsed": true,
    "jupyter": {
     "outputs_hidden": true
    }
   },
   "outputs": [
    {
     "name": "stdout",
     "output_type": "stream",
     "text": [
      "[0.53374971 0.59422444 0.7175821  0.95853976 0.95852812 0.95878399] [0.00086987 0.01448062 0.01180978 0.00067487 0.00087874 0.00075039] [0.53181965 0.57180201 0.60958729 0.63167244 0.63669949 0.63554711] [0.00455345 0.0168263  0.01024647 0.0116342  0.01226765 0.01319608]\n"
     ]
    }
   ],
   "source": [
    "train_mean = np.mean(train_scores, axis=1)\n",
    "train_std = np.std(train_scores, axis=1)\n",
    "test_mean = np.mean(test_scores, axis=1)\n",
    "test_std = np.std(test_scores, axis=1)\n",
    "print(train_mean, train_std, test_mean, test_std)"
   ]
  },
  {
   "cell_type": "code",
   "execution_count": 90,
   "metadata": {},
   "outputs": [
    {
     "data": {
      "image/png": "[encoded data removed]",
      "text/plain": [
       "<Figure size 432x288 with 1 Axes>"
      ]
     },
     "metadata": {
      "needs_background": "light"
     },
     "output_type": "display_data"
    }
   ],
   "source": [
    "plt.plot(param_range, train_mean, color='blue', marker='o')\n",
    "plt.fill_between(param_range, train_mean+train_std, train_mean-train_std, alpha=0.15, color='blue')\n",
    "plt.plot(param_range, test_mean, color='green', marker='s')\n",
    "plt.fill_between(param_range, test_mean+test_std, test_mean-test_std, alpha=0.15, color='green')\n",
    "plt.grid()\n",
    "plt.xscale('log')"
   ]
  },
  {
   "cell_type": "markdown",
   "metadata": {},
   "source": [
    "## Evaluation on test set"
   ]
  },
  {
   "cell_type": "markdown",
   "metadata": {},
   "source": [
    "### DeciscionTree"
   ]
  },
  {
   "cell_type": "code",
   "execution_count": 95,
   "metadata": {},
   "outputs": [
    {
     "name": "stdout",
     "output_type": "stream",
     "text": [
      "              precision    recall  f1-score   support\n",
      "\n",
      "       black       0.79      0.84      0.81      2276\n",
      "       white       0.84      0.79      0.82      2501\n",
      "\n",
      "    accuracy                           0.82      4777\n",
      "   macro avg       0.82      0.82      0.82      4777\n",
      "weighted avg       0.82      0.82      0.82      4777\n",
      "\n"
     ]
    }
   ],
   "source": [
    "tree_eval =  final_model.predict(X_test)\n",
    "print(classification_report(y_test,tree_eval))"
   ]
  },
  {
   "cell_type": "code",
   "execution_count": 93,
   "metadata": {},
   "outputs": [
    {
     "name": "stdout",
     "output_type": "stream",
     "text": [
      "<sklearn.metrics._plot.confusion_matrix.ConfusionMatrixDisplay object at 0x000001B80CCDF940>\n"
     ]
    },
    {
     "data": {
      "image/png": "[encoded data removed]",
      "text/plain": [
       "<Figure size 432x288 with 2 Axes>"
      ]
     },
     "metadata": {
      "needs_background": "light"
     },
     "output_type": "display_data"
    }
   ],
   "source": [
    "print(plot_confusion_matrix(final_model, X_test, y_test))"
   ]
  },
  {
   "cell_type": "markdown",
   "metadata": {},
   "source": [
    "#### RandomForest"
   ]
  },
  {
   "cell_type": "code",
   "execution_count": 96,
   "metadata": {},
   "outputs": [
    {
     "name": "stdout",
     "output_type": "stream",
     "text": [
      "              precision    recall  f1-score   support\n",
      "\n",
      "       black       0.63      0.62      0.63      2276\n",
      "       white       0.66      0.67      0.66      2501\n",
      "\n",
      "    accuracy                           0.65      4777\n",
      "   macro avg       0.65      0.64      0.65      4777\n",
      "weighted avg       0.65      0.65      0.65      4777\n",
      "\n"
     ]
    }
   ],
   "source": [
    "forest_eval =  final_model2.predict(X_test)\n",
    "print(classification_report(y_test,forest_eval))"
   ]
  },
  {
   "cell_type": "code",
   "execution_count": 97,
   "metadata": {},
   "outputs": [
    {
     "name": "stdout",
     "output_type": "stream",
     "text": [
      "<sklearn.metrics._plot.confusion_matrix.ConfusionMatrixDisplay object at 0x000001B80D5682E0>\n"
     ]
    },
    {
     "data": {
      "image/png": "[encoded data removed]",
      "text/plain": [
       "<Figure size 432x288 with 2 Axes>"
      ]
     },
     "metadata": {
      "needs_background": "light"
     },
     "output_type": "display_data"
    }
   ],
   "source": [
    "print(plot_confusion_matrix(final_model2, X_test, y_test))"
   ]
  },
  {
   "cell_type": "markdown",
   "metadata": {},
   "source": [
    "##### Both models seem to perform even slightly better on the test set"
   ]
  },
  {
   "cell_type": "markdown",
   "metadata": {},
   "source": [
    "#### Conlcusion: \n",
    "#### based on the opening moves, the length of the game, and how long and opening gets respected, we can predict to about 80% accuracy if white or black will win the game\n",
    "#### This does not take into account the level of both players playing, since this will introduce a greater variance in the outcome of the game,\n",
    "#### In essence, this model simulates a theoretical playbook for a chess player, based on the opening used."
   ]
  }
 ],
 "metadata": {
  "kernelspec": {
   "display_name": "Python 3",
   "language": "python",
   "name": "python3"
  },
  "language_info": {
   "codemirror_mode": {
    "name": "ipython",
    "version": 3
   },
   "file_extension": ".py",
   "mimetype": "text/x-python",
   "name": "python",
   "nbconvert_exporter": "python",
   "pygments_lexer": "ipython3",
   "version": "3.8.5"
  }
 },
 "nbformat": 4,
 "nbformat_minor": 4
}
